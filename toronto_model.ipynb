{
 "cells": [
  {
   "cell_type": "code",
   "execution_count": 1,
   "metadata": {},
   "outputs": [],
   "source": [
    "import io\n",
    "import os\n",
    "import platform\n",
    "import pdb\n",
    "\n",
    "import numpy as np\n",
    "import pandas as pd\n",
    "import matplotlib.pyplot as plt\n",
    "\n",
    "from matplotlib.pyplot import cm\n",
    "\n",
    "import torch\n",
    "import torch.nn as nn\n",
    "import torch.optim as optim\n",
    "from sklearn import preprocessing"
   ]
  },
  {
   "cell_type": "code",
   "execution_count": 2,
   "metadata": {},
   "outputs": [],
   "source": [
    "data=pd.read_csv('toronto.csv')\n",
    "data.replace(9999,np.nan,inplace=True)\n",
    "data.replace(-999,np.nan,inplace=True)\n",
    "for i in range(len(data)):\n",
    "    for j in range(len(data.columns)):\n",
    "        if np.isnan(data.iat[i,j]):\n",
    "            if i==0:\n",
    "                data.iloc[i,j]=data.iat[i+1,j]\n",
    "            elif i==len(data)-1:\n",
    "                data.iloc[i,j]=data.iat[i-1,j]\n",
    "            else:\n",
    "                data.iloc[i,j]=np.nanmean([data.iat[i-1,j],data.iat[i+1,j]])"
   ]
  },
  {
   "cell_type": "code",
   "execution_count": 3,
   "metadata": {},
   "outputs": [],
   "source": [
    "# data.fillna(np.mean(data),inplace=True)"
   ]
  },
  {
   "cell_type": "code",
   "execution_count": 4,
   "metadata": {},
   "outputs": [
    {
     "data": {
      "text/html": [
       "<div>\n",
       "<style scoped>\n",
       "    .dataframe tbody tr th:only-of-type {\n",
       "        vertical-align: middle;\n",
       "    }\n",
       "\n",
       "    .dataframe tbody tr th {\n",
       "        vertical-align: top;\n",
       "    }\n",
       "\n",
       "    .dataframe thead th {\n",
       "        text-align: right;\n",
       "    }\n",
       "</style>\n",
       "<table border=\"1\" class=\"dataframe\">\n",
       "  <thead>\n",
       "    <tr style=\"text-align: right;\">\n",
       "      <th></th>\n",
       "      <th>Temp (°C)</th>\n",
       "      <th>Dew Point Temp (°C)</th>\n",
       "      <th>Rel Hum (%)</th>\n",
       "      <th>Wind Dir (10s deg)</th>\n",
       "      <th>Wind Spd (km/h)</th>\n",
       "      <th>Visibility (km)</th>\n",
       "      <th>Stn Press (kPa)</th>\n",
       "      <th>Wind Chill</th>\n",
       "      <th>NO</th>\n",
       "      <th>NO2</th>\n",
       "      <th>NOx</th>\n",
       "      <th>O3</th>\n",
       "      <th>PM25</th>\n",
       "    </tr>\n",
       "  </thead>\n",
       "  <tbody>\n",
       "    <tr>\n",
       "      <th>0</th>\n",
       "      <td>-6.2</td>\n",
       "      <td>-13.2</td>\n",
       "      <td>58.0</td>\n",
       "      <td>25.0</td>\n",
       "      <td>43.0</td>\n",
       "      <td>16.1</td>\n",
       "      <td>100.68</td>\n",
       "      <td>-16.0</td>\n",
       "      <td>3.0</td>\n",
       "      <td>15.0</td>\n",
       "      <td>18.0</td>\n",
       "      <td>19.0</td>\n",
       "      <td>6.0</td>\n",
       "    </tr>\n",
       "    <tr>\n",
       "      <th>1</th>\n",
       "      <td>-6.0</td>\n",
       "      <td>-13.7</td>\n",
       "      <td>55.0</td>\n",
       "      <td>24.0</td>\n",
       "      <td>41.0</td>\n",
       "      <td>16.1</td>\n",
       "      <td>100.59</td>\n",
       "      <td>-16.0</td>\n",
       "      <td>2.0</td>\n",
       "      <td>14.0</td>\n",
       "      <td>16.0</td>\n",
       "      <td>19.0</td>\n",
       "      <td>7.0</td>\n",
       "    </tr>\n",
       "    <tr>\n",
       "      <th>2</th>\n",
       "      <td>-6.2</td>\n",
       "      <td>-13.3</td>\n",
       "      <td>57.0</td>\n",
       "      <td>24.0</td>\n",
       "      <td>45.0</td>\n",
       "      <td>16.1</td>\n",
       "      <td>100.56</td>\n",
       "      <td>-16.0</td>\n",
       "      <td>1.0</td>\n",
       "      <td>10.0</td>\n",
       "      <td>11.0</td>\n",
       "      <td>22.0</td>\n",
       "      <td>7.0</td>\n",
       "    </tr>\n",
       "    <tr>\n",
       "      <th>3</th>\n",
       "      <td>-6.0</td>\n",
       "      <td>-12.0</td>\n",
       "      <td>63.0</td>\n",
       "      <td>24.0</td>\n",
       "      <td>32.0</td>\n",
       "      <td>16.1</td>\n",
       "      <td>100.58</td>\n",
       "      <td>-15.0</td>\n",
       "      <td>1.0</td>\n",
       "      <td>10.0</td>\n",
       "      <td>11.0</td>\n",
       "      <td>21.0</td>\n",
       "      <td>7.0</td>\n",
       "    </tr>\n",
       "    <tr>\n",
       "      <th>4</th>\n",
       "      <td>-6.0</td>\n",
       "      <td>-12.2</td>\n",
       "      <td>62.0</td>\n",
       "      <td>24.0</td>\n",
       "      <td>35.0</td>\n",
       "      <td>16.1</td>\n",
       "      <td>100.50</td>\n",
       "      <td>-15.0</td>\n",
       "      <td>2.0</td>\n",
       "      <td>11.0</td>\n",
       "      <td>13.0</td>\n",
       "      <td>19.0</td>\n",
       "      <td>7.0</td>\n",
       "    </tr>\n",
       "  </tbody>\n",
       "</table>\n",
       "</div>"
      ],
      "text/plain": [
       "   Temp (°C)  Dew Point Temp (°C)  Rel Hum (%)  Wind Dir (10s deg)  \\\n",
       "0       -6.2                -13.2         58.0                25.0   \n",
       "1       -6.0                -13.7         55.0                24.0   \n",
       "2       -6.2                -13.3         57.0                24.0   \n",
       "3       -6.0                -12.0         63.0                24.0   \n",
       "4       -6.0                -12.2         62.0                24.0   \n",
       "\n",
       "   Wind Spd (km/h)  Visibility (km)  Stn Press (kPa)  Wind Chill   NO   NO2  \\\n",
       "0             43.0             16.1           100.68       -16.0  3.0  15.0   \n",
       "1             41.0             16.1           100.59       -16.0  2.0  14.0   \n",
       "2             45.0             16.1           100.56       -16.0  1.0  10.0   \n",
       "3             32.0             16.1           100.58       -15.0  1.0  10.0   \n",
       "4             35.0             16.1           100.50       -15.0  2.0  11.0   \n",
       "\n",
       "    NOx    O3  PM25  \n",
       "0  18.0  19.0   6.0  \n",
       "1  16.0  19.0   7.0  \n",
       "2  11.0  22.0   7.0  \n",
       "3  11.0  21.0   7.0  \n",
       "4  13.0  19.0   7.0  "
      ]
     },
     "execution_count": 4,
     "metadata": {},
     "output_type": "execute_result"
    }
   ],
   "source": [
    "data.head()"
   ]
  },
  {
   "cell_type": "code",
   "execution_count": 5,
   "metadata": {},
   "outputs": [],
   "source": [
    "dataset=pd.DataFrame(data,columns=data.columns[:])\n",
    "split=round(0.90*len(dataset))\n",
    "data1=dataset.iloc[:split].copy()\n",
    "test_set=dataset.iloc[split:].copy()"
   ]
  },
  {
   "cell_type": "code",
   "execution_count": 6,
   "metadata": {},
   "outputs": [],
   "source": [
    "scaler = preprocessing.MinMaxScaler() \n",
    "data1 = scaler.fit_transform(data1)\n",
    "test_set1=scaler.transform(test_set)\n",
    "# dataset.loc[:,:] = scaled_values"
   ]
  },
  {
   "cell_type": "code",
   "execution_count": 7,
   "metadata": {},
   "outputs": [],
   "source": [
    "# test_set"
   ]
  },
  {
   "cell_type": "code",
   "execution_count": 8,
   "metadata": {},
   "outputs": [],
   "source": [
    "# data_set=np.asarray(dataset,dtype=np.float32)\n",
    "seq_len=30 + 1\n",
    "x=len(data1)-seq_len\n",
    "y=len(test_set)-seq_len\n",
    "sequences = [np.asarray(data1[t:t+seq_len]) for t in range(x)]\n",
    "test_seq=[np.asarray(test_set[t:t+seq_len]) for t in range(y)]\n",
    "test_seq1=[np.asarray(test_set1[t:t+seq_len]) for t in range(y)]"
   ]
  },
  {
   "cell_type": "code",
   "execution_count": 9,
   "metadata": {},
   "outputs": [
    {
     "data": {
      "text/plain": [
       "list"
      ]
     },
     "execution_count": 9,
     "metadata": {},
     "output_type": "execute_result"
    }
   ],
   "source": [
    "type(test_seq)"
   ]
  },
  {
   "cell_type": "code",
   "execution_count": 10,
   "metadata": {},
   "outputs": [],
   "source": [
    "seq=torch.FloatTensor(np.asarray(sequences))\n",
    "test_seq=torch.FloatTensor(np.asarray(test_seq))\n",
    "test_seq1=torch.FloatTensor(test_seq1)"
   ]
  },
  {
   "cell_type": "code",
   "execution_count": 11,
   "metadata": {},
   "outputs": [
    {
     "data": {
      "text/plain": [
       "torch.Size([845, 31, 13])"
      ]
     },
     "execution_count": 11,
     "metadata": {},
     "output_type": "execute_result"
    }
   ],
   "source": [
    "test_seq.shape"
   ]
  },
  {
   "cell_type": "code",
   "execution_count": 12,
   "metadata": {},
   "outputs": [],
   "source": [
    "split_row=round(0.80*seq.size(0))\n",
    "x_train_set=seq[:split_row, :-1]\n",
    "y_train_set=seq[:split_row, -1:]\n",
    "x_valid_set=seq[split_row:, :-1]\n",
    "y_valid_set=seq[split_row:, -1:]\n",
    "x_test_set=test_seq1[:,:-1]\n",
    "y_test_set=test_seq[:,-1:]"
   ]
  },
  {
   "cell_type": "code",
   "execution_count": 13,
   "metadata": {},
   "outputs": [],
   "source": [
    "class LSTM(nn.Module):\n",
    "    def __init__(self,input_size,hidden_size,num_layers=2,dropout=0,bidirectional=False):\n",
    "        super(LSTM,self).__init__()\n",
    "        self.input_size=input_size\n",
    "        self.hidden_size=hidden_size\n",
    "        self.num_layers=num_layers\n",
    "        self.dropout=dropout\n",
    "        self.bidirectional=bidirectional\n",
    "        self.lstm = nn.LSTM(input_size,\n",
    "                            hidden_size,\n",
    "                            num_layers,\n",
    "                            dropout=dropout,\n",
    "                            bidirectional=bidirectional)\n",
    "        self.linear = nn.Linear(hidden_size, input_size)\n",
    "        \n",
    "    def forward(self,inputs,hidden):\n",
    "        outputs,hidden=self.lstm(inputs,hidden)\n",
    "        predictions=self.linear(outputs[-1:])\n",
    "        return predictions,outputs,hidden\n",
    "    \n",
    "    def init_hidden(self,batch_size):\n",
    "        num_directions=2 if self.bidirectional else 1\n",
    "        hidden = (torch.zeros(self.num_layers*num_directions, batch_size, self.hidden_size),\n",
    "                  torch.zeros(self.num_layers*num_directions, batch_size, self.hidden_size))\n",
    "        return hidden"
   ]
  },
  {
   "cell_type": "code",
   "execution_count": 14,
   "metadata": {},
   "outputs": [],
   "source": [
    "def get_batch(x,y,i,batch_size):\n",
    "    if x.dim() == 2:\n",
    "        x = x.unsqueeze(2)\n",
    "    batch_x = x[(i*batch_size):(i*batch_size)+batch_size, :, :]\n",
    "    batch_y = y[(i*batch_size):(i*batch_size)+batch_size]\n",
    "\n",
    "    # Reshape Tensors into (seq_len, batch_size, input_size) format for the LSTM.\n",
    "    batch_x = batch_x.transpose(0, 1)\n",
    "    batch_y = batch_y.transpose(0,1)\n",
    "    \n",
    "    return batch_x, batch_y"
   ]
  },
  {
   "cell_type": "code",
   "execution_count": 15,
   "metadata": {},
   "outputs": [],
   "source": [
    "def train(model,x_train_set,y_train_set,optimizer,batch_size,epoch):\n",
    "    num_sequences=x_train_set.size(0)\n",
    "    num_batches=num_sequences//batch_size\n",
    "    \n",
    "    total_loss=0\n",
    "    \n",
    "    model.train()\n",
    "    for i in range(num_batches):\n",
    "        # Get input and target batches and reshape for LSTM.\n",
    "        batch_x, batch_y = get_batch(x_train_set, y_train_set, i, batch_size)\n",
    "\n",
    "        # Reset the gradient.\n",
    "        lstm.zero_grad()\n",
    "        \n",
    "        # Initialize the hidden states (see the function lstm.init_hidden(batch_size)).\n",
    "        hidden = lstm.init_hidden(batch_size)\n",
    "        \n",
    "        # Complete a forward pass.\n",
    "        y_pred, outputs, hidden = lstm(batch_x,hidden)\n",
    "        \n",
    "        # Calculate the loss with the 'loss_fn'.\n",
    "        loss = loss_fn(y_pred,batch_y)\n",
    "        \n",
    "        # Compute the gradient.\n",
    "        loss.backward()\n",
    "        \n",
    "        # Clip to the gradient to avoid exploding gradient.\n",
    "        nn.utils.clip_grad_norm_(lstm.parameters(), max_grad_norm)\n",
    "\n",
    "        # Make one step with optimizer.\n",
    "        optimizer.step()\n",
    "        \n",
    "        # Accumulate the total loss.\n",
    "        total_loss += loss.data\n",
    "        \n",
    "    print(\"Epoch {}: Loss = {:.8f}\".format(epoch+1, total_loss/num_batches))\n",
    "    return total_loss/num_batches"
   ]
  },
  {
   "cell_type": "code",
   "execution_count": 16,
   "metadata": {},
   "outputs": [],
   "source": [
    "def eval(model,x_valid_set,y_valid_set,optimizer,batch_size):\n",
    "    num_sequences=x_valid_set.size(0)\n",
    "    num_batches=num_sequences//batch_size\n",
    "    \n",
    "    total_loss=0\n",
    "    \n",
    "    model.eval()\n",
    "    for i in range(num_batches):\n",
    "        # Get input and target batches and reshape for LSTM.\n",
    "        batch_x, batch_y = get_batch(x_valid_set, y_valid_set, i, batch_size)\n",
    "\n",
    "        # Reset the gradient.\n",
    "        lstm.zero_grad()\n",
    "        \n",
    "        # Initialize the hidden states (see the function lstm.init_hidden(batch_size)).\n",
    "        hidden = lstm.init_hidden(batch_size)\n",
    "        \n",
    "        # Complete a forward pass.\n",
    "        y_pred, outputs, hidden = lstm(batch_x,hidden)\n",
    "        \n",
    "        # Calculate the loss with the 'loss_fn'.\n",
    "        loss = loss_fn(y_pred,batch_y)\n",
    "        \n",
    "        # Compute the gradient.\n",
    "        loss.backward()\n",
    "        \n",
    "        # Clip to the gradient to avoid exploding gradient.\n",
    "        nn.utils.clip_grad_norm_(lstm.parameters(), max_grad_norm)\n",
    "\n",
    "        # Make one step with optimizer.\n",
    "        optimizer.step()\n",
    "        \n",
    "        # Accumulate the total loss.\n",
    "        total_loss += loss.data\n",
    "\n",
    "    print(\"Validation: Loss = {:.8f}\".format(total_loss/num_batches))\n",
    "    return total_loss/num_batches"
   ]
  },
  {
   "cell_type": "code",
   "execution_count": 17,
   "metadata": {},
   "outputs": [],
   "source": [
    "def save_model(epoch, model, path='./'):\n",
    "    \n",
    "    # file name and path \n",
    "    filename = path + 'toronto.pt'\n",
    "    \n",
    "    # load the model parameters \n",
    "    torch.save(model.state_dict(), filename)\n",
    "    \n",
    "    \n",
    "    return model"
   ]
  },
  {
   "cell_type": "code",
   "execution_count": 18,
   "metadata": {},
   "outputs": [],
   "source": [
    "def load_model(city, model, path='./'):\n",
    "    \n",
    "    # file name and path \n",
    "    filename = path + '{}.pt'.format(city)\n",
    "    \n",
    "    # load the model parameters \n",
    "    model.load_state_dict(torch.load(filename))\n",
    "    \n",
    "    \n",
    "    return model"
   ]
  },
  {
   "cell_type": "code",
   "execution_count": 19,
   "metadata": {},
   "outputs": [
    {
     "name": "stdout",
     "output_type": "stream",
     "text": [
      "Training model for 40 epoch\n",
      "Epoch 1: Loss = 0.02875476\n",
      "Validation: Loss = 0.01399143\n",
      "Epoch 2: Loss = 0.00950872\n",
      "Validation: Loss = 0.00870981\n",
      "Epoch 3: Loss = 0.00730255\n",
      "Validation: Loss = 0.00699581\n",
      "Epoch 4: Loss = 0.00620711\n",
      "Validation: Loss = 0.00608072\n",
      "Epoch 5: Loss = 0.00570191\n",
      "Validation: Loss = 0.00573658\n",
      "Epoch 6: Loss = 0.00545097\n",
      "Validation: Loss = 0.00545945\n",
      "Epoch 7: Loss = 0.00528087\n",
      "Validation: Loss = 0.00507464\n",
      "Epoch 8: Loss = 0.00515113\n",
      "Validation: Loss = 0.00491360\n",
      "Epoch 9: Loss = 0.00501603\n",
      "Validation: Loss = 0.00487238\n",
      "Epoch 10: Loss = 0.00501465\n",
      "Validation: Loss = 0.00479590\n",
      "Epoch 11: Loss = 0.00494306\n",
      "Validation: Loss = 0.00462293\n",
      "Epoch 12: Loss = 0.00489777\n",
      "Validation: Loss = 0.00462129\n",
      "Epoch 13: Loss = 0.00488167\n",
      "Validation: Loss = 0.00462213\n",
      "Epoch 14: Loss = 0.00483084\n",
      "Validation: Loss = 0.00447974\n",
      "Epoch 15: Loss = 0.00482029\n",
      "Validation: Loss = 0.00440030\n",
      "Epoch 16: Loss = 0.00479621\n",
      "Validation: Loss = 0.00450575\n",
      "Epoch 17: Loss = 0.00478776\n",
      "Validation: Loss = 0.00441606\n",
      "Epoch 18: Loss = 0.00476521\n",
      "Validation: Loss = 0.00435126\n",
      "Epoch 19: Loss = 0.00474524\n",
      "Validation: Loss = 0.00434483\n",
      "Epoch 20: Loss = 0.00473557\n",
      "Validation: Loss = 0.00436581\n",
      "Epoch 21: Loss = 0.00472710\n",
      "Validation: Loss = 0.00433492\n",
      "Epoch 22: Loss = 0.00472391\n",
      "Validation: Loss = 0.00430711\n",
      "Epoch 23: Loss = 0.00471692\n",
      "Validation: Loss = 0.00429709\n",
      "Epoch 24: Loss = 0.00471471\n",
      "Validation: Loss = 0.00426438\n",
      "Epoch 25: Loss = 0.00469651\n",
      "Validation: Loss = 0.00417337\n",
      "Epoch 26: Loss = 0.00470320\n",
      "Validation: Loss = 0.00426309\n",
      "Epoch 27: Loss = 0.00468224\n",
      "Validation: Loss = 0.00417613\n",
      "Epoch 28: Loss = 0.00467001\n",
      "Validation: Loss = 0.00425440\n",
      "Epoch 29: Loss = 0.00467350\n",
      "Validation: Loss = 0.00417929\n",
      "Epoch 30: Loss = 0.00464733\n",
      "Validation: Loss = 0.00420871\n",
      "Epoch 31: Loss = 0.00465530\n",
      "Validation: Loss = 0.00413783\n",
      "Epoch 32: Loss = 0.00465774\n",
      "Validation: Loss = 0.00407769\n",
      "Epoch 33: Loss = 0.00465195\n",
      "Validation: Loss = 0.00415043\n",
      "Epoch 34: Loss = 0.00465303\n",
      "Validation: Loss = 0.00407488\n",
      "Epoch 35: Loss = 0.00464726\n",
      "Validation: Loss = 0.00418405\n",
      "Epoch 36: Loss = 0.00463594\n",
      "Validation: Loss = 0.00410177\n",
      "Epoch 37: Loss = 0.00463547\n",
      "Validation: Loss = 0.00409317\n",
      "Epoch 38: Loss = 0.00463291\n",
      "Validation: Loss = 0.00408201\n",
      "Epoch 39: Loss = 0.00460706\n",
      "Validation: Loss = 0.00407426\n",
      "Epoch 40: Loss = 0.00462362\n",
      "Validation: Loss = 0.00410298\n",
      "\n",
      "\n",
      "\n",
      "Optimization ended.\n",
      "\n"
     ]
    },
    {
     "data": {
      "image/png": "[encoded data removed]",
      "text/plain": [
       "<Figure size 432x288 with 1 Axes>"
      ]
     },
     "metadata": {},
     "output_type": "display_data"
    }
   ],
   "source": [
    "input_size=13\n",
    "hidden_size=24\n",
    "num_layers=2\n",
    "lstm=LSTM(input_size,hidden_size)\n",
    "\n",
    "learning_rate=0.001\n",
    "max_grad_norm=5\n",
    "loss_fn = nn.MSELoss()\n",
    "optimizer = optim.Adam(lstm.parameters(), lr=learning_rate,weight_decay=0.00001)\n",
    "\n",
    "batch_size = 8\n",
    "num_epochs = 40 #3\n",
    "# num_sequences = x_train_set.size(0)\n",
    "# num_batches = num_sequences //batch_size\n",
    "\n",
    "checkpoint_freq = 10\n",
    "path = './'\n",
    "\n",
    "train_losses=[]\n",
    "valid_losses=[]\n",
    "\n",
    "print(\"Training model for {} epoch\".format(num_epochs))\n",
    "for epoch in range(num_epochs):\n",
    "#     total_loss = 0\n",
    "\n",
    "    # Shuffle input and target sequences.\n",
    "    idx = torch.randperm(x_train_set.size(0))\n",
    "    x_shuffled = x_train_set[idx]\n",
    "    y_shuffled = y_train_set[idx]\n",
    "    \n",
    "    train_loss=train(lstm,x_shuffled,y_shuffled,optimizer,batch_size,epoch)\n",
    "    valid_loss=eval(lstm,x_valid_set,y_valid_set,optimizer,batch_size)\n",
    "    \n",
    "    train_losses.append(train_loss)\n",
    "    valid_losses.append(valid_loss)\n",
    "    \n",
    "    # Checkpoint\n",
    "    if epoch % checkpoint_freq ==0:\n",
    "        save_model(epoch, lstm, path)\n",
    "        \n",
    "# Last checkpoint\n",
    "save_model(num_epochs, lstm, path)\n",
    "    \n",
    "print(\"\\n\\n\\nOptimization ended.\\n\")\n",
    "\n",
    "plt.plot(train_losses, color=\"darkcyan\", label=\"train\")\n",
    "plt.plot(valid_losses, color=\"tomato\",label=\"validation\")\n",
    "plt.show()"
   ]
  },
  {
   "cell_type": "code",
   "execution_count": 21,
   "metadata": {},
   "outputs": [],
   "source": [
    "input_size=13\n",
    "hidden_size=24\n",
    "num_layers=2\n",
    "lstm=LSTM(input_size,hidden_size)\n",
    "\n",
    "learning_rate=0.001\n",
    "max_grad_norm=5\n",
    "loss_fn = nn.MSELoss()\n",
    "optimizer = optim.Adam(lstm.parameters(), lr=learning_rate,weight_decay=0.00001)"
   ]
  },
  {
   "cell_type": "code",
   "execution_count": 22,
   "metadata": {},
   "outputs": [],
   "source": [
    "lstm=load_model('toronto',lstm)"
   ]
  },
  {
   "cell_type": "code",
   "execution_count": 23,
   "metadata": {},
   "outputs": [],
   "source": [
    "def predict_one_hour(model,x_valid_set,input_size,num_steps,scaler,y_valid_set,loss_fn):\n",
    "    total_loss=0\n",
    "    predictions=torch.zeros(num_steps)\n",
    "    for i, x in enumerate(x_valid_set):\n",
    "        hidden=model.init_hidden(1)\n",
    "        y_pred,_,_=model(x.contiguous().view(-1, 1, input_size),hidden)\n",
    "#         print(y_pred.shape)\n",
    "        predictions[i]=torch.FloatTensor(scaler.inverse_transform(y_pred[0].data)[:,-1])\n",
    "        loss=loss_fn(y_pred.squeeze(1),y_valid_set[i])\n",
    "        total_loss+=loss\n",
    "    return predictions,total_loss/num_steps"
   ]
  },
  {
   "cell_type": "code",
   "execution_count": 24,
   "metadata": {},
   "outputs": [],
   "source": [
    "loss_fn=nn.MSELoss()\n",
    "one_step_predictions,loss = predict_one_hour(lstm, x_test_set, input_size, y_test_set.size(0),scaler,y_test_set,loss_fn)"
   ]
  },
  {
   "cell_type": "code",
   "execution_count": 25,
   "metadata": {},
   "outputs": [
    {
     "data": {
      "image/png": "[encoded data removed]",
      "text/plain": [
       "<Figure size 1008x720 with 1 Axes>"
      ]
     },
     "metadata": {},
     "output_type": "display_data"
    },
    {
     "name": "stdout",
     "output_type": "stream",
     "text": [
      "2.1864076\n",
      "1465.167\n"
     ]
    }
   ],
   "source": [
    "fig = plt.figure(figsize=(14, 10))\n",
    "plt.plot(y_test_set[:,0,-1].data.numpy(),color='darkcyan')\n",
    "plt.plot(one_step_predictions.data.numpy(),color='tomato')\n",
    "plt.show()\n",
    "\n",
    "print(loss_fn(one_step_predictions,y_test_set[:,0,-1]).data.numpy())\n",
    "print(loss.data.numpy())"
   ]
  },
  {
   "cell_type": "markdown",
   "metadata": {},
   "source": [
    "## 24hours model"
   ]
  },
  {
   "cell_type": "code",
   "execution_count": null,
   "metadata": {},
   "outputs": [],
   "source": []
  }
 ],
 "metadata": {
  "kernelspec": {
   "display_name": "Python 3",
   "language": "python",
   "name": "python3"
  },
  "language_info": {
   "codemirror_mode": {
    "name": "ipython",
    "version": 3
   },
   "file_extension": ".py",
   "mimetype": "text/x-python",
   "name": "python",
   "nbconvert_exporter": "python",
   "pygments_lexer": "ipython3",
   "version": "3.6.5"
  }
 },
 "nbformat": 4,
 "nbformat_minor": 2
}
